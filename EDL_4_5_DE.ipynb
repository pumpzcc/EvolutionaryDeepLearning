{
  "nbformat": 4,
  "nbformat_minor": 0,
  "metadata": {
    "colab": {
      "name": "EDL_4_5_DE.ipynb",
      "provenance": [],
      "include_colab_link": true
    },
    "kernelspec": {
      "name": "python3",
      "display_name": "Python 3"
    }
  },
  "cells": [
    {
      "cell_type": "markdown",
      "metadata": {
        "id": "view-in-github",
        "colab_type": "text"
      },
      "source": [
        "<a href=\"https://colab.research.google.com/github/pumpzcc/EvolutionaryDeepLearning/blob/main/EDL_4_5_DE.ipynb\" target=\"_parent\"><img src=\"https://colab.research.google.com/assets/colab-badge.svg\" alt=\"Open In Colab\"/></a>"
      ]
    },
    {
      "cell_type": "markdown",
      "metadata": {
        "id": "ZWk8QVItlplD"
      },
      "source": [
        "Original Source: https://github.com/DEAP/deap/blob/master/examples/ga/onemax_numpy.py\n",
        "\n",
        "DEAP is free software: you can redistribute it and/or modify\n",
        "   it under the terms of the GNU Lesser General Public License as\n",
        "   published by the Free Software Foundation, either version 3 of\n",
        "   the License, or (at your option) any later version.\n",
        "\n",
        "   DEAP is distributed in the hope that it will be useful,\n",
        "   but WITHOUT ANY WARRANTY; without even the implied warranty of\n",
        "   MERCHANTABILITY or FITNESS FOR A PARTICULAR PURPOSE. See the\n",
        "   GNU Lesser General Public License for more details.\n",
        "   You should have received a copy of the GNU Lesser General Public\n",
        "   License along with DEAP. If not, see <http://www.gnu.org/licenses/>."
      ]
    },
    {
      "cell_type": "code",
      "metadata": {
        "id": "ct-pwA_aHMMa",
        "outputId": "2000479d-d0f3-4659-8cbf-3aeb95d54be6",
        "colab": {
          "base_uri": "https://localhost:8080/"
        }
      },
      "source": [
        "#@title Install DEAP\n",
        "!pip install deap --quiet"
      ],
      "execution_count": 1,
      "outputs": [
        {
          "output_type": "stream",
          "name": "stdout",
          "text": [
            "\u001b[?25l   \u001b[90m━━━━━━━━━━━━━━━━━━━━━━━━━━━━━━━━━━━━━━━━\u001b[0m \u001b[32m0.0/135.6 kB\u001b[0m \u001b[31m?\u001b[0m eta \u001b[36m-:--:--\u001b[0m\r\u001b[2K   \u001b[90m━━━━━━━━━━━━━━━━━━━━━━━━━━━━━━━━━━━━━━━━\u001b[0m \u001b[32m135.6/135.6 kB\u001b[0m \u001b[31m3.9 MB/s\u001b[0m eta \u001b[36m0:00:00\u001b[0m\n",
            "\u001b[?25h"
          ]
        }
      ]
    },
    {
      "cell_type": "code",
      "metadata": {
        "id": "epVL5qPDHCPW"
      },
      "source": [
        "#@title Imports\n",
        "import random\n",
        "import array\n",
        "import time\n",
        "\n",
        "import numpy as np\n",
        "\n",
        "from deap import base\n",
        "from deap import benchmarks\n",
        "from deap import creator\n",
        "from deap import tools\n",
        "\n",
        "%matplotlib inline\n",
        "import matplotlib.pyplot as plt\n",
        "from IPython.display import clear_output"
      ],
      "execution_count": 2,
      "outputs": []
    },
    {
      "cell_type": "code",
      "metadata": {
        "id": "m9M4DgcgK3Tr"
      },
      "source": [
        "#@title Hyperparameters\n",
        "NDIM = 6\n",
        "CR = 0.25\n",
        "F = 1\n",
        "MU = 300\n",
        "NGEN = 1000\n",
        "GEN_OUTPUT = 25\n",
        "MAX_TIME = 5"
      ],
      "execution_count": 3,
      "outputs": []
    },
    {
      "cell_type": "code",
      "metadata": {
        "id": "s3r8TiOjHYyy"
      },
      "source": [
        "#@title Setup Fitness Criteria\n",
        "creator.create(\"FitnessMin\", base.Fitness, weights=(-1.0,))\n",
        "creator.create(\"Individual\", array.array, typecode='d', fitness=creator.FitnessMin)"
      ],
      "execution_count": 4,
      "outputs": []
    },
    {
      "cell_type": "code",
      "metadata": {
        "id": "DP0BRxxAH1uh"
      },
      "source": [
        "#@title Add Genetic Operators to Toolbox\n",
        "toolbox = base.Toolbox()\n",
        "toolbox.register(\"attr_float\", random.uniform, -3, 3)\n",
        "toolbox.register(\"individual\", tools.initRepeat, creator.Individual, toolbox.attr_float, NDIM)\n",
        "toolbox.register(\"population\", tools.initRepeat, list, toolbox.individual)\n",
        "toolbox.register(\"select\", tools.selRandom, k=3)"
      ],
      "execution_count": 5,
      "outputs": []
    },
    {
      "cell_type": "code",
      "metadata": {
        "colab": {
          "base_uri": "https://localhost:8080/",
          "height": 453
        },
        "id": "OWfZMKx3MAcX",
        "outputId": "ca045c5c-fc4a-45e5-ebff-9ca3d254bd0e"
      },
      "source": [
        "#@title Generate regression data\n",
        "equation_form = \"polynomial\" #@param [\"polynomial\", \"abs\", \"step\"]\n",
        "\n",
        "X_START = -5\n",
        "X_END = 5\n",
        "X_STEP = 0.5\n",
        "\n",
        "def equation(x):\n",
        "  if equation_form == \"polynomial\":\n",
        "    return (2*x + 3*x**2 + 4*x**3 + 5*x**4 + 6*x**5 + 10)\n",
        "  elif equation_form == \"abs\":\n",
        "    return abs(x)\n",
        "  else:\n",
        "    return np.where(x>1, 1, 0)\n",
        "\n",
        "X = np.array([x for x in np.arange(X_START, X_END, X_STEP)])\n",
        "Y = equation(X)\n",
        "data = list(zip(X, Y))\n",
        "\n",
        "plt.scatter(X,Y)"
      ],
      "execution_count": 6,
      "outputs": [
        {
          "output_type": "execute_result",
          "data": {
            "text/plain": [
              "<matplotlib.collections.PathCollection at 0x7d476e4f76d0>"
            ]
          },
          "metadata": {},
          "execution_count": 6
        },
        {
          "output_type": "display_data",
          "data": {
            "text/plain": [
              "<Figure size 640x480 with 1 Axes>"
            ],
            "image/png": "[encoded data removed]"
          },
          "metadata": {}
        }
      ]
    },
    {
      "cell_type": "code",
      "metadata": {
        "id": "-RS30hHBKe9L"
      },
      "source": [
        "import csv\n",
        "with open('data.csv', 'w') as f:\n",
        "    # using csv.writer method from CSV package\n",
        "    write = csv.writer(f)\n",
        "    write.writerows(data)"
      ],
      "execution_count": 7,
      "outputs": []
    },
    {
      "cell_type": "code",
      "metadata": {
        "id": "UM87TusHv8ab"
      },
      "source": [
        "#@title Evaluation of fitness\n",
        "def pred(ind, x):\n",
        "  y_ = 0.0\n",
        "  for i in range(1,NDIM):\n",
        "    y_ += ind[i-1]*x**i\n",
        "  y_ += ind[NDIM-1]\n",
        "  return y_\n",
        "\n",
        "def fitness(ind, data):\n",
        "  mse = 0.0\n",
        "  for x, y in data:\n",
        "    y_ = pred(ind, x)\n",
        "    mse += (y - y_)**2\n",
        "  return mse/len(data),\n",
        "\n",
        "# fitness eval\n",
        "toolbox.register(\"evaluate\", fitness, data=data)"
      ],
      "execution_count": 8,
      "outputs": []
    },
    {
      "cell_type": "code",
      "metadata": {
        "id": "FUWLROMvM1z6"
      },
      "source": [
        "#@title Plot Fitness\n",
        "def plot_fitness(g, best, pop, logbook):\n",
        "  Y_ = np.array([pred(best, x) for x in X])\n",
        "  clear_output()\n",
        "  print(f\"Generation {g}, Best {best}\")\n",
        "  print(logbook.stream)\n",
        "  fits = [f.fitness.values[0] for f in pop]\n",
        "  plt.hist(fits)\n",
        "  plt.show()\n",
        "  plt.scatter(X,Y)\n",
        "  plt.plot(X,Y_, 'r')\n",
        "  plt.show()"
      ],
      "execution_count": 9,
      "outputs": []
    },
    {
      "cell_type": "code",
      "metadata": {
        "colab": {
          "base_uri": "https://localhost:8080/",
          "height": 1000
        },
        "id": "QvsWliTQiI7j",
        "outputId": "ca228117-3558-4341-f658-7e5ee61f3e7e"
      },
      "source": [
        "pop = toolbox.population(n=MU);\n",
        "hof = tools.HallOfFame(1)\n",
        "stats = tools.Statistics(lambda ind: ind.fitness.values)\n",
        "stats.register(\"avg\", np.mean)\n",
        "stats.register(\"std\", np.std)\n",
        "stats.register(\"min\", np.min)\n",
        "stats.register(\"max\", np.max)\n",
        "\n",
        "logbook = tools.Logbook()\n",
        "logbook.header = \"gen\", \"evals\", \"std\", \"min\", \"avg\", \"max\"\n",
        "\n",
        "# Evaluate the individuals\n",
        "fitnesses = toolbox.map(toolbox.evaluate, pop)\n",
        "for ind, fit in zip(pop, fitnesses):\n",
        "    ind.fitness.values = fit\n",
        "\n",
        "record = stats.compile(pop)\n",
        "logbook.record(gen=0, evals=len(pop), **record)\n",
        "print(logbook.stream)\n",
        "start = time.time()\n",
        "for g in range(1, NGEN):\n",
        "  for k, agent in enumerate(pop):\n",
        "    a,b,c = toolbox.select(pop)\n",
        "    y = toolbox.clone(agent)\n",
        "    index = random.randrange(NDIM)\n",
        "    for i, value in enumerate(agent):\n",
        "      if i == index or random.random() < CR:\n",
        "        y[i] = a[i] + F*(b[i]-c[i])\n",
        "    y.fitness.values = toolbox.evaluate(y)\n",
        "    if y.fitness > agent.fitness:\n",
        "      pop[k] = y\n",
        "  hof.update(pop)\n",
        "  record = stats.compile(pop)\n",
        "  logbook.record(gen=g, evals=len(pop), **record)\n",
        "  if (g+1) % GEN_OUTPUT == 0:\n",
        "    plot_fitness(g, hof[0], pop, logbook)\n",
        "    end = time.time()\n",
        "    if end-start > MAX_TIME:\n",
        "      break\n",
        "\n",
        "print(\"Best individual is \", hof[0], hof[0].fitness.values[0])\n"
      ],
      "execution_count": 10,
      "outputs": [
        {
          "output_type": "stream",
          "name": "stdout",
          "text": [
            "Generation 74, Best Individual('d', [-3.167160568235027, 14.628624183306307, 6.518744932092441, 4.657203888666894, 5.922609248024759, -44.636440332082])\n",
            "50 \t300  \t98072.1    \t3884.67    \t100740     \t554922     \n",
            "51 \t300  \t91758.4    \t3884.67    \t96301.4    \t554922     \n",
            "52 \t300  \t91368      \t3884.67    \t94136.6    \t554922     \n",
            "53 \t300  \t85262.4    \t3884.67    \t90204      \t553886     \n",
            "54 \t300  \t77932.6    \t3884.67    \t87098.8    \t423874     \n",
            "55 \t300  \t76516.8    \t3884.67    \t84202.9    \t412051     \n",
            "56 \t300  \t73910.4    \t3884.67    \t82149.8    \t412051     \n",
            "57 \t300  \t72754.9    \t3884.67    \t80339.9    \t412051     \n",
            "58 \t300  \t72474.4    \t3884.67    \t78503.8    \t412051     \n",
            "59 \t300  \t71924.1    \t3884.67    \t76012.6    \t412051     \n",
            "60 \t300  \t71554.4    \t3884.67    \t74592.9    \t412051     \n",
            "61 \t300  \t68091.9    \t3884.67    \t71477.6    \t412051     \n",
            "62 \t300  \t64250.4    \t3884.67    \t69395.4    \t396297     \n",
            "63 \t300  \t62392.1    \t3884.67    \t67546.6    \t396297     \n",
            "64 \t300  \t60344.9    \t3320.43    \t65180.5    \t396297     \n",
            "65 \t300  \t58627.8    \t3320.43    \t64014.3    \t396297     \n",
            "66 \t300  \t56167.8    \t3320.43    \t62134.7    \t396297     \n",
            "67 \t300  \t55622.3    \t3320.43    \t60834.5    \t396297     \n",
            "68 \t300  \t52114.3    \t2460.5     \t58382.9    \t396297     \n",
            "69 \t300  \t51395.7    \t2460.5     \t57642.3    \t396297     \n",
            "70 \t300  \t50483.4    \t2460.5     \t56399      \t396297     \n",
            "71 \t300  \t49032.3    \t2460.5     \t55142.5    \t396297     \n",
            "72 \t300  \t48608.2    \t2460.5     \t54046.4    \t396297     \n",
            "73 \t300  \t47942.6    \t2460.5     \t53105      \t396297     \n",
            "74 \t300  \t47070.1    \t2460.5     \t52183.6    \t396297     \n"
          ]
        },
        {
          "output_type": "display_data",
          "data": {
            "text/plain": [
              "<Figure size 640x480 with 1 Axes>"
            ],
            "image/png": "[encoded data removed]"
          },
          "metadata": {}
        },
        {
          "output_type": "display_data",
          "data": {
            "text/plain": [
              "<Figure size 640x480 with 1 Axes>"
            ],
            "image/png": "[encoded data removed]"
          },
          "metadata": {}
        },
        {
          "output_type": "stream",
          "name": "stdout",
          "text": [
            "Best individual is  Individual('d', [-3.167160568235027, 14.628624183306307, 6.518744932092441, 4.657203888666894, 5.922609248024759, -44.636440332082]) 2460.4979045485916\n"
          ]
        }
      ]
    }
  ]
}