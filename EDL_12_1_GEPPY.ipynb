{
  "nbformat": 4,
  "nbformat_minor": 0,
  "metadata": {
    "colab": {
      "name": "EDL_12_1_GEPPY.ipynb",
      "provenance": [],
      "include_colab_link": true
    },
    "kernelspec": {
      "name": "python3",
      "display_name": "Python 3"
    }
  },
  "cells": [
    {
      "cell_type": "markdown",
      "metadata": {
        "id": "view-in-github",
        "colab_type": "text"
      },
      "source": [
        "<a href=\"https://colab.research.google.com/github/pumpzcc/EvolutionaryDeepLearning/blob/main/EDL_12_1_GEPPY.ipynb\" target=\"_parent\"><img src=\"https://colab.research.google.com/assets/colab-badge.svg\" alt=\"Open In Colab\"/></a>"
      ]
    },
    {
      "cell_type": "code",
      "metadata": {
        "id": "h3_QyYmu8fcS",
        "outputId": "eaa8201d-a25c-4302-db6c-9520842288c9",
        "colab": {
          "base_uri": "https://localhost:8080/"
        }
      },
      "source": [
        "!pip install geppy"
      ],
      "execution_count": 4,
      "outputs": [
        {
          "output_type": "stream",
          "name": "stdout",
          "text": [
            "Collecting geppy\n",
            "  Downloading geppy-0.1.3.tar.gz (35 kB)\n",
            "  Preparing metadata (setup.py) ... \u001b[?25l\u001b[?25hdone\n",
            "Collecting deap (from geppy)\n",
            "  Downloading deap-1.4.3-cp311-cp311-manylinux_2_5_x86_64.manylinux1_x86_64.manylinux_2_17_x86_64.manylinux2014_x86_64.whl.metadata (13 kB)\n",
            "Requirement already satisfied: numpy in /usr/local/lib/python3.11/dist-packages (from deap->geppy) (2.0.2)\n",
            "Downloading deap-1.4.3-cp311-cp311-manylinux_2_5_x86_64.manylinux1_x86_64.manylinux_2_17_x86_64.manylinux2014_x86_64.whl (135 kB)\n",
            "\u001b[2K   \u001b[90m━━━━━━━━━━━━━━━━━━━━━━━━━━━━━━━━━━━━━━━━\u001b[0m \u001b[32m135.6/135.6 kB\u001b[0m \u001b[31m5.0 MB/s\u001b[0m eta \u001b[36m0:00:00\u001b[0m\n",
            "\u001b[?25hBuilding wheels for collected packages: geppy\n",
            "  Building wheel for geppy (setup.py) ... \u001b[?25l\u001b[?25hdone\n",
            "  Created wheel for geppy: filename=geppy-0.1.3-py3-none-any.whl size=34964 sha256=439188c7d74e5dc75353ffa44f4dfe659a8b643ccd2c959a89ce2c0e43bc3691\n",
            "  Stored in directory: /root/.cache/pip/wheels/62/c5/b4/e92589957846dd4984c712d1be535885765588be250b890146\n",
            "Successfully built geppy\n",
            "Installing collected packages: deap, geppy\n",
            "Successfully installed deap-1.4.3 geppy-0.1.3\n"
          ]
        }
      ]
    },
    {
      "cell_type": "code",
      "metadata": {
        "id": "PFEXb-Nb-j4l"
      },
      "source": [
        "import geppy as gep\n",
        "from deap import creator, base, tools\n",
        "import numpy as np\n",
        "import random\n",
        "\n",
        "# for reproduction\n",
        "s = 0\n",
        "random.seed(s)\n",
        "np.random.seed(s)"
      ],
      "execution_count": 5,
      "outputs": []
    },
    {
      "cell_type": "code",
      "metadata": {
        "id": "G4KBwQCk-qv8"
      },
      "source": [
        "def f(x1):\n",
        "    \"\"\"Ground truth function\"\"\"\n",
        "    return 6 * x1 + 22"
      ],
      "execution_count": 6,
      "outputs": []
    },
    {
      "cell_type": "code",
      "metadata": {
        "id": "MVk1rnOs-v7c"
      },
      "source": [
        "n_cases = 100\n",
        "X1 = np.random.uniform(-10, 10, size=n_cases)   # random numbers in range [-10, 10)\n",
        "Y = f(X1) + np.random.normal(size=n_cases)"
      ],
      "execution_count": 7,
      "outputs": []
    },
    {
      "cell_type": "code",
      "metadata": {
        "id": "jOTzbnM7-6BU"
      },
      "source": [
        "def protected_div(x1, x2):\n",
        "    if abs(x2) < 1e-6:\n",
        "        return 1\n",
        "    return x1 / x2"
      ],
      "execution_count": 8,
      "outputs": []
    },
    {
      "cell_type": "code",
      "metadata": {
        "id": "U5fMx_pA-9L8"
      },
      "source": [
        "import operator\n",
        "\n",
        "pset = gep.PrimitiveSet('Main', input_names=['x1'])\n",
        "pset.add_function(operator.add, 2)\n",
        "pset.add_function(operator.sub, 2)\n",
        "pset.add_function(operator.mul, 2)\n",
        "pset.add_function(protected_div, 2)\n",
        "pset.add_ephemeral_terminal(name='enc', gen=lambda: random.randint(-10, 10)) # each ENC is a random integer within [-10, 10]"
      ],
      "execution_count": 9,
      "outputs": []
    },
    {
      "cell_type": "code",
      "metadata": {
        "id": "fqCYCd8T_CNk"
      },
      "source": [
        "from deap import creator, base, tools\n",
        "\n",
        "creator.create(\"FitnessMin\", base.Fitness, weights=(-1,))  # to minimize the objective (fitness)\n",
        "creator.create(\"Individual\", gep.Chromosome, fitness=creator.FitnessMin)"
      ],
      "execution_count": 10,
      "outputs": []
    },
    {
      "cell_type": "code",
      "metadata": {
        "id": "RutDOOsL_E3s"
      },
      "source": [
        "h = 7 # head length\n",
        "n_genes = 2   # number of genes in a chromosome"
      ],
      "execution_count": 11,
      "outputs": []
    },
    {
      "cell_type": "code",
      "metadata": {
        "id": "Ya1PRxkx_HtE"
      },
      "source": [
        "toolbox = gep.Toolbox()\n",
        "toolbox.register('gene_gen', gep.Gene, pset=pset, head_length=h)\n",
        "toolbox.register('individual', creator.Individual, gene_gen=toolbox.gene_gen, n_genes=n_genes, linker=operator.add)\n",
        "toolbox.register(\"population\", tools.initRepeat, list, toolbox.individual)\n",
        "\n",
        "# compile utility: which translates an individual into an executable function (Lambda)\n",
        "toolbox.register('compile', gep.compile_, pset=pset)"
      ],
      "execution_count": 12,
      "outputs": []
    },
    {
      "cell_type": "code",
      "metadata": {
        "id": "44x6LiQg_K10"
      },
      "source": [
        "def evaluate(individual):\n",
        "    \"\"\"Evalute the fitness of an individual: MAE (mean absolute error)\"\"\"\n",
        "    func = toolbox.compile(individual)\n",
        "    Yp = np.array(list(map(func, X1)))\n",
        "    return np.mean(np.abs(Y - Yp)),\n",
        "\n",
        "toolbox.register('evaluate', evaluate)"
      ],
      "execution_count": 13,
      "outputs": []
    },
    {
      "cell_type": "code",
      "metadata": {
        "id": "q3asJCb7_mi9"
      },
      "source": [
        "toolbox.register('select', tools.selTournament, tournsize=3)\n",
        "# 1. general operators\n",
        "toolbox.register('mut_uniform', gep.mutate_uniform, pset=pset, ind_pb=0.05, pb=1)\n",
        "toolbox.register('mut_invert', gep.invert, pb=0.1)\n",
        "toolbox.register('mut_is_transpose', gep.is_transpose, pb=0.1)\n",
        "toolbox.register('mut_ris_transpose', gep.ris_transpose, pb=0.1)\n",
        "toolbox.register('mut_gene_transpose', gep.gene_transpose, pb=0.1)\n",
        "toolbox.register('cx_1p', gep.crossover_one_point, pb=0.4)\n",
        "toolbox.register('cx_2p', gep.crossover_two_point, pb=0.2)\n",
        "toolbox.register('cx_gene', gep.crossover_gene, pb=0.1)\n",
        "toolbox.register('mut_ephemeral', gep.mutate_uniform_ephemeral, ind_pb='1p')  # 1p: expected one point mutation in an individual\n",
        "toolbox.pbs['mut_ephemeral'] = 1  # we can also give the probability via the pbs property"
      ],
      "execution_count": 14,
      "outputs": []
    },
    {
      "cell_type": "code",
      "metadata": {
        "id": "ztOYvQHk_qiN"
      },
      "source": [
        "stats = tools.Statistics(key=lambda ind: ind.fitness.values[0])\n",
        "stats.register(\"avg\", np.mean)\n",
        "stats.register(\"std\", np.std)\n",
        "stats.register(\"min\", np.min)\n",
        "stats.register(\"max\", np.max)"
      ],
      "execution_count": 15,
      "outputs": []
    },
    {
      "cell_type": "code",
      "metadata": {
        "id": "QCqOB-v5_vXd",
        "outputId": "e8a28e8e-e6a9-42e2-f49c-38c1baa489fe",
        "colab": {
          "base_uri": "https://localhost:8080/"
        }
      },
      "source": [
        "# size of population and number of generations\n",
        "n_pop = 100\n",
        "n_gen = 100\n",
        "\n",
        "pop = toolbox.population(n=n_pop)\n",
        "hof = tools.HallOfFame(3)   # only record the best three individuals ever found in all generations\n",
        "\n",
        "# start evolution\n",
        "pop, log = gep.gep_simple(pop, toolbox, n_generations=n_gen, n_elites=1,\n",
        "                          stats=stats, hall_of_fame=hof, verbose=True)"
      ],
      "execution_count": 16,
      "outputs": [
        {
          "output_type": "stream",
          "name": "stdout",
          "text": [
            "gen\tnevals\tavg    \tstd    \tmin    \tmax    \n",
            "0  \t100   \t88.6809\t272.054\t14.8402\t2247.94\n",
            "1  \t99    \t72.9903\t409.881\t14.8402\t4146.35\n",
            "2  \t99    \t114.631\t821.196\t13.6279\t8281.92\n",
            "3  \t99    \t44.1602\t110.958\t8.19233\t999.724\n",
            "4  \t99    \t28.2697\t13.5157\t8.19233\t96.0449\n",
            "5  \t99    \t54.4336\t225.532\t7.92462\t2261.58\n",
            "6  \t99    \t118.403\t485.201\t7.7707 \t4118.57\n",
            "7  \t99    \t87.9296\t306.727\t6.19445\t2384.42\n",
            "8  \t99    \t43.3178\t59.0951\t5.20662\t312.36 \n",
            "9  \t99    \t46.6432\t79.7068\t5.20662\t427.293\n",
            "10 \t99    \t49.5034\t99.3532\t5.20662\t792.354\n",
            "11 \t99    \t34.416 \t45.021 \t3.19233\t330.871\n",
            "12 \t99    \t43.7674\t128.648\t3.19233\t1231.57\n",
            "13 \t99    \t39.2811\t55.4804\t3.19233\t334.543\n",
            "14 \t99    \t55.7693\t205.413\t2.80767\t2006.57\n",
            "15 \t99    \t40.5937\t74.1986\t2.19233\t608.161\n",
            "16 \t99    \t105.23 \t385.437\t2.19233\t3477.85\n",
            "17 \t99    \t32.8945\t52.7849\t2.19233\t367.274\n",
            "18 \t99    \t26.7112\t29.3625\t1.053  \t237.61 \n",
            "19 \t99    \t34.0062\t46.5607\t1.053  \t285.221\n",
            "20 \t99    \t28.603 \t35.8615\t1.053  \t289.261\n",
            "21 \t99    \t45.3353\t110.74 \t1.053  \t802.597\n",
            "22 \t99    \t41.4086\t95.1453\t1.053  \t872.736\n",
            "23 \t99    \t37.3791\t55.1213\t1.053  \t480.195\n",
            "24 \t99    \t42.7681\t69.7437\t1.053  \t477.165\n",
            "25 \t99    \t35.1733\t79.6326\t1.053  \t796.385\n",
            "26 \t99    \t39.463 \t110.647\t1.053  \t1069.62\n",
            "27 \t99    \t25.8773\t28.8911\t1.053  \t239.51 \n",
            "28 \t99    \t43.6326\t72.7501\t0.862385\t546.193\n",
            "29 \t99    \t36.2354\t44.1056\t0.862385\t360.008\n",
            "30 \t99    \t29.1481\t36.2281\t0.862385\t335.016\n",
            "31 \t99    \t30.1936\t32.0636\t0.862385\t229.935\n",
            "32 \t99    \t34.1318\t77.8739\t0.862385\t755.235\n",
            "33 \t99    \t99.9906\t614.357\t0.862385\t6188.22\n",
            "34 \t99    \t60.3015\t243.83 \t0.862385\t2290.56\n",
            "35 \t99    \t36.4746\t55.9264\t0.862385\t380.561\n",
            "36 \t99    \t30.3699\t56.6379\t0.862385\t485.232\n",
            "37 \t99    \t41.4614\t76.2496\t0.862385\t563.67 \n",
            "38 \t99    \t168.123\t1416.64\t0.862385\t14259.4\n",
            "39 \t99    \t32.1186\t55.3622\t0.862385\t389.452\n",
            "40 \t99    \t54.1346\t181.684\t0.862385\t1737.81\n",
            "41 \t99    \t34.3339\t46.8018\t0.862385\t320.049\n",
            "42 \t99    \t62.727 \t196.702\t0.862385\t1813.6 \n",
            "43 \t99    \t725.292\t6911.44\t0.862385\t69492.4\n",
            "44 \t99    \t31.8598\t34.7428\t0.862385\t222.748\n",
            "45 \t99    \t23.2525\t17.7929\t0.862385\t93.3688\n",
            "46 \t99    \t30.6349\t23.5249\t0.862385\t124.114\n",
            "47 \t99    \t31.1113\t34.3855\t0.862385\t234.691\n",
            "48 \t99    \t27.5271\t25.1105\t0.862385\t117.962\n",
            "49 \t99    \t31.6261\t38.9404\t0.862385\t264.903\n",
            "50 \t99    \t41.4694\t69.4499\t0.862385\t484.212\n",
            "51 \t99    \t201.269\t1756.08\t0.862385\t17672.4\n",
            "52 \t99    \t35.5898\t53.0336\t0.862385\t332.836\n",
            "53 \t99    \t26.42  \t33.0029\t0.862385\t257.735\n",
            "54 \t99    \t30.58  \t40.7885\t0.862385\t318.723\n",
            "55 \t99    \t27.7958\t46.6114\t0.862385\t349.29 \n",
            "56 \t99    \t35.3029\t61.2869\t0.862385\t389.637\n",
            "57 \t99    \t30.9056\t28.8975\t0.862385\t186.644\n",
            "58 \t99    \t29.4634\t42.7507\t0.862385\t334.296\n",
            "59 \t99    \t26.0052\t24.3069\t0.862385\t168.997\n",
            "60 \t99    \t28.8398\t35.257 \t0.862385\t249.384\n",
            "61 \t99    \t29.8105\t33.4325\t0.862385\t195.613\n",
            "62 \t99    \t40.7932\t54.3915\t0.862385\t335.273\n",
            "63 \t99    \t34.6341\t43.2139\t0.862385\t260.562\n",
            "64 \t99    \t26.834 \t26.3488\t0.862385\t205.501\n",
            "65 \t99    \t32.4466\t48.2567\t0.862385\t309.415\n",
            "66 \t99    \t28.3565\t33.8198\t0.862385\t282.467\n",
            "67 \t99    \t23.0786\t19.7419\t0.862385\t121.026\n",
            "68 \t99    \t30.6795\t35.0433\t0.862385\t285.034\n",
            "69 \t99    \t30.3818\t26.5218\t0.862385\t162.527\n",
            "70 \t99    \t36.9958\t43.7674\t0.862385\t360.286\n",
            "71 \t99    \t32.3378\t38.9714\t0.862385\t248.451\n",
            "72 \t99    \t42.8589\t120.876\t0.862385\t1199.9 \n",
            "73 \t99    \t27.0981\t19.018 \t0.862385\t119.619\n",
            "74 \t99    \t29.7195\t31.0615\t0.862385\t220.304\n",
            "75 \t99    \t30.4995\t27.0863\t0.862385\t190.5  \n",
            "76 \t99    \t31.3482\t40.6187\t0.862385\t269.413\n",
            "77 \t99    \t39.6537\t70.2076\t0.862385\t626.161\n",
            "78 \t99    \t40.9164\t52.1311\t0.862385\t325.284\n",
            "79 \t99    \t29.1458\t31.8425\t0.862385\t271.273\n",
            "80 \t99    \t25.5578\t20.7575\t0.862385\t119.334\n",
            "81 \t99    \t35.9044\t45.2096\t0.862385\t303.456\n",
            "82 \t99    \t34.2474\t50.2971\t0.862385\t317.274\n",
            "83 \t99    \t29.5291\t27.4226\t0.862385\t223.594\n",
            "84 \t99    \t31.9147\t43.0444\t0.862385\t385.94 \n",
            "85 \t99    \t28.4751\t36.1723\t0.862385\t302.291\n",
            "86 \t99    \t36.9693\t56.4594\t0.862385\t460.563\n",
            "87 \t99    \t30.8919\t36.165 \t0.862385\t238.565\n",
            "88 \t99    \t28.6636\t52.258 \t0.862385\t465.99 \n",
            "89 \t99    \t26.9803\t20.3013\t0.862385\t99.7053\n",
            "90 \t99    \t30.6527\t39.6366\t0.862385\t310.502\n",
            "91 \t99    \t32.0022\t40.7629\t0.862385\t345.9  \n",
            "92 \t99    \t33.7534\t45.4849\t0.862385\t322.169\n",
            "93 \t99    \t33.3923\t68.4725\t0.862385\t601.685\n",
            "94 \t99    \t34.064 \t48.7233\t0.862385\t273.112\n",
            "95 \t99    \t43.3457\t158.714\t0.862385\t1611.9 \n",
            "96 \t99    \t33.1245\t54.0084\t0.862385\t417.867\n",
            "97 \t99    \t31.2699\t45.9812\t0.862385\t409.348\n",
            "98 \t99    \t38.7409\t76.5448\t0.862385\t754.966\n",
            "99 \t99    \t30.7363\t32.6562\t0.862385\t227.42 \n",
            "100\t99    \t37.0966\t48.0739\t0.862385\t238.486\n"
          ]
        }
      ]
    },
    {
      "cell_type": "code",
      "metadata": {
        "id": "ldBNyJvP__50",
        "colab": {
          "base_uri": "https://localhost:8080/"
        },
        "outputId": "6a06ed52-4e9f-43db-db12-625a1c22cddf"
      },
      "source": [
        "print(hof[0])"
      ],
      "execution_count": 17,
      "outputs": [
        {
          "output_type": "stream",
          "name": "stdout",
          "text": [
            "add(\n",
            "\tsub(6, x1),\n",
            "\tsub(2, mul(-7, add(x1, 2)))\n",
            ")\n"
          ]
        }
      ]
    },
    {
      "cell_type": "code",
      "metadata": {
        "id": "qS3W5O6oAFi0",
        "colab": {
          "base_uri": "https://localhost:8080/"
        },
        "outputId": "f1012f12-010e-46eb-fa36-71b2c005fd44"
      },
      "source": [
        "best_ind = hof[0]\n",
        "symplified_best = gep.simplify(best_ind)\n",
        "print('Symplified best individual: ')\n",
        "print(symplified_best)"
      ],
      "execution_count": 18,
      "outputs": [
        {
          "output_type": "stream",
          "name": "stdout",
          "text": [
            "Symplified best individual: \n",
            "6*x1 + 22\n"
          ]
        }
      ]
    },
    {
      "cell_type": "code",
      "metadata": {
        "id": "DwwTBLlfALMd",
        "colab": {
          "base_uri": "https://localhost:8080/",
          "height": 460
        },
        "outputId": "e9091728-f8f7-4ac7-8d08-1018ee22fc41"
      },
      "source": [
        "# we want use symbol labels instead of words in the tree graph\n",
        "rename_labels = {'add': '+', 'sub': '-', 'mul': '*', 'protected_div': '/'}\n",
        "gep.export_expression_tree(best_ind, rename_labels, 'data/numerical_expression_tree.png')\n",
        "\n",
        "# show the above image here for convenience\n",
        "from IPython.display import Image\n",
        "Image(filename='data/numerical_expression_tree.png')"
      ],
      "execution_count": 19,
      "outputs": [
        {
          "output_type": "execute_result",
          "data": {
            "image/png": "[encoded data removed]",
            "text/plain": [
              "<IPython.core.display.Image object>"
            ]
          },
          "metadata": {},
          "execution_count": 19
        }
      ]
    }
  ]
}