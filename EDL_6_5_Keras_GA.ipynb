{
  "nbformat": 4,
  "nbformat_minor": 0,
  "metadata": {
    "colab": {
      "name": "EDL_6_5_Keras_GA.ipynb",
      "provenance": [],
      "include_colab_link": true
    },
    "kernelspec": {
      "name": "python3",
      "display_name": "Python 3"
    },
    "language_info": {
      "name": "python"
    },
    "accelerator": "GPU"
  },
  "cells": [
    {
      "cell_type": "markdown",
      "metadata": {
        "id": "view-in-github",
        "colab_type": "text"
      },
      "source": [
        "<a href=\"https://colab.research.google.com/github/pumpzcc/EvolutionaryDeepLearning/blob/main/EDL_6_5_Keras_GA.ipynb\" target=\"_parent\"><img src=\"https://colab.research.google.com/assets/colab-badge.svg\" alt=\"Open In Colab\"/></a>"
      ]
    },
    {
      "cell_type": "markdown",
      "metadata": {
        "id": "QDdLXpjYVlxb"
      },
      "source": [
        "Original source https://github.com/zinsmatt/Neural-Network-Numpy/blob/master/neural-network.py\n",
        "\n",
        "\"\"\"\n",
        "Created on Thu Nov 15 20:42:52 2018\n",
        "@author: matthieu\n",
        "\"\"\""
      ]
    },
    {
      "cell_type": "code",
      "metadata": {
        "id": "aGY50Vzacs-3",
        "colab": {
          "base_uri": "https://localhost:8080/"
        },
        "outputId": "9e24b131-5091-42b5-d973-ff3f52413ce3"
      },
      "source": [
        "#@title Install DEAP\n",
        "!pip install deap --quiet"
      ],
      "execution_count": null,
      "outputs": [
        {
          "output_type": "stream",
          "name": "stdout",
          "text": [
            "\u001b[?25l\r\u001b[K     |██                              | 10 kB 20.1 MB/s eta 0:00:01\r\u001b[K     |████                            | 20 kB 24.6 MB/s eta 0:00:01\r\u001b[K     |██████                          | 30 kB 12.7 MB/s eta 0:00:01\r\u001b[K     |████████▏                       | 40 kB 9.8 MB/s eta 0:00:01\r\u001b[K     |██████████▏                     | 51 kB 5.4 MB/s eta 0:00:01\r\u001b[K     |████████████▏                   | 61 kB 6.0 MB/s eta 0:00:01\r\u001b[K     |██████████████▎                 | 71 kB 5.7 MB/s eta 0:00:01\r\u001b[K     |████████████████▎               | 81 kB 6.3 MB/s eta 0:00:01\r\u001b[K     |██████████████████▎             | 92 kB 4.9 MB/s eta 0:00:01\r\u001b[K     |████████████████████▍           | 102 kB 5.2 MB/s eta 0:00:01\r\u001b[K     |██████████████████████▍         | 112 kB 5.2 MB/s eta 0:00:01\r\u001b[K     |████████████████████████▍       | 122 kB 5.2 MB/s eta 0:00:01\r\u001b[K     |██████████████████████████▌     | 133 kB 5.2 MB/s eta 0:00:01\r\u001b[K     |████████████████████████████▌   | 143 kB 5.2 MB/s eta 0:00:01\r\u001b[K     |██████████████████████████████▌ | 153 kB 5.2 MB/s eta 0:00:01\r\u001b[K     |████████████████████████████████| 160 kB 5.2 MB/s \n",
            "\u001b[?25h"
          ]
        }
      ]
    },
    {
      "cell_type": "code",
      "metadata": {
        "id": "5XA9kA0OWra-"
      },
      "source": [
        "#@title Imports\n",
        "import tensorflow as tf\n",
        "import numpy as np\n",
        "import sklearn\n",
        "import sklearn.datasets\n",
        "import sklearn.linear_model\n",
        "import matplotlib.pyplot as plt\n",
        "from IPython.display import clear_output\n",
        "\n",
        "#DEAP\n",
        "from deap import algorithms\n",
        "from deap import base\n",
        "from deap import benchmarks\n",
        "from deap import creator\n",
        "from deap import tools\n",
        "\n",
        "import random"
      ],
      "execution_count": null,
      "outputs": []
    },
    {
      "cell_type": "code",
      "metadata": {
        "colab": {
          "base_uri": "https://localhost:8080/",
          "height": 334
        },
        "id": "Ka0P2qXFWx9F",
        "outputId": "e1048e7c-0071-4551-ce0a-25f69c73b33a"
      },
      "source": [
        "#@title Dataset Parameters  { run: \"auto\" }\n",
        "mnist = tf.keras.datasets.mnist\n",
        "\n",
        "(x_train, y_train), (x_test, y_test) = mnist.load_data()\n",
        "X, Y = x_train / 255.0, y_train\n",
        "\n",
        "plt.imshow(X[0])\n",
        "print(Y[0])"
      ],
      "execution_count": null,
      "outputs": [
        {
          "output_type": "stream",
          "name": "stdout",
          "text": [
            "Downloading data from https://storage.googleapis.com/tensorflow/tf-keras-datasets/mnist.npz\n",
            "11493376/11490434 [==============================] - 0s 0us/step\n",
            "11501568/11490434 [==============================] - 0s 0us/step\n",
            "5\n"
          ]
        },
        {
          "output_type": "display_data",
          "data": {
            "image/png": "[encoded data removed]",
            "text/plain": [
              "<Figure size 432x288 with 1 Axes>"
            ]
          },
          "metadata": {
            "needs_background": "light"
          }
        }
      ]
    },
    {
      "cell_type": "code",
      "metadata": {
        "id": "giVSaZoeXbOJ",
        "colab": {
          "base_uri": "https://localhost:8080/"
        },
        "outputId": "e95a83eb-7b29-465c-f31d-a32963ef7cbd"
      },
      "source": [
        "#@title Define Keras Model\n",
        "middle_layer = 128 #@param {type:\"slider\", min:16, max:128, step:2}\n",
        "model = tf.keras.models.Sequential([\n",
        "  tf.keras.layers.Flatten(input_shape=(28, 28)),\n",
        "  tf.keras.layers.Dense(middle_layer, activation='relu'),\n",
        "  tf.keras.layers.Dense(10, activation='softmax')\n",
        "])\n",
        "\n",
        "optimizer = tf.keras.optimizers.Adam(learning_rate=.001)\n",
        "\n",
        "model.compile(optimizer=optimizer,\n",
        "              loss='sparse_categorical_crossentropy',\n",
        "              metrics=['accuracy'])\n",
        "\n",
        "model.summary()\n",
        "trainableParams = np.sum([np.prod(v.shape()) for v in model.trainable_weights])\n",
        "print(f\"Trainable parameters: {trainableParams}\")"
      ],
      "execution_count": null,
      "outputs": [
        {
          "output_type": "stream",
          "name": "stdout",
          "text": [
            "Model: \"sequential\"\n",
            "_________________________________________________________________\n",
            " Layer (type)                Output Shape              Param #   \n",
            "=================================================================\n",
            " flatten (Flatten)           (None, 784)               0         \n",
            "                                                                 \n",
            " dense (Dense)               (None, 128)               100480    \n",
            "                                                                 \n",
            " dense_1 (Dense)             (None, 10)                1290      \n",
            "                                                                 \n",
            "=================================================================\n",
            "Total params: 101,770\n",
            "Trainable params: 101,770\n",
            "Non-trainable params: 0\n",
            "_________________________________________________________________\n",
            "Trainable parameters: 101770\n"
          ]
        }
      ]
    },
    {
      "cell_type": "code",
      "metadata": {
        "id": "cD3k8sIxdcx8",
        "colab": {
          "base_uri": "https://localhost:8080/"
        },
        "outputId": "c195811e-5c3e-453c-bbd0-b38d2b94b27b"
      },
      "source": [
        "def score_model():\n",
        "  y_hat = model.predict(x_test)\n",
        "  acc = [np.argmax(y)==y_test[i] for i,y in enumerate(y_hat)]\n",
        "  return sum(acc)/len(acc)\n",
        "\n",
        "def print_parameters():\n",
        "  for layer in model.layers:\n",
        "    for na in layer.get_weights():\n",
        "      print(na)\n",
        "\n",
        "def set_parameters(individual):\n",
        "  idx = 0\n",
        "  tensors=[]\n",
        "  for layer in model.layers:\n",
        "    for na in layer.get_weights():\n",
        "      size = na.size\n",
        "      sh = na.shape\n",
        "      t = individual[idx:idx+size]\n",
        "      t = np.array(t)\n",
        "      t = np.reshape(t, sh)\n",
        "      idx += size\n",
        "      tensors.append(t)\n",
        "  model.set_weights(tensors)\n",
        "\n",
        "individual = np.random.rand(trainableParams)\n",
        "set_parameters(individual)\n",
        "print(score_model())\n",
        "print_parameters()"
      ],
      "execution_count": null,
      "outputs": [
        {
          "output_type": "stream",
          "name": "stdout",
          "text": [
            "0.1007\n",
            "[[0.9485753  0.26410663 0.53104275 ... 0.28235838 0.19210711 0.54314834]\n",
            " [0.3970142  0.23537366 0.70188135 ... 0.32557625 0.6643272  0.48917058]\n",
            " [0.4941955  0.1876921  0.1467511  ... 0.9167958  0.6112521  0.04076596]\n",
            " ...\n",
            " [0.96129775 0.94945186 0.32179555 ... 0.09880105 0.54414093 0.3357163 ]\n",
            " [0.843063   0.28031728 0.01271152 ... 0.00892823 0.37306225 0.8151725 ]\n",
            " [0.45052502 0.6076223  0.2383126  ... 0.47792426 0.76704955 0.40838167]]\n",
            "[0.2700846  0.20085502 0.9688265  0.29116473 0.46633196 0.768128\n",
            " 0.4468114  0.86172134 0.9711121  0.11119835 0.27446783 0.05390441\n",
            " 0.11034027 0.9985136  0.9557695  0.04301693 0.9808005  0.0048623\n",
            " 0.83901477 0.81843233 0.28281954 0.08967701 0.02914943 0.45840108\n",
            " 0.5321872  0.5646644  0.90964556 0.57958585 0.22129275 0.32961395\n",
            " 0.2819497  0.70949733 0.19234864 0.1406416  0.33904484 0.16420141\n",
            " 0.32617828 0.9151462  0.942873   0.905798   0.9793749  0.39362612\n",
            " 0.52927077 0.86979914 0.7207516  0.21082199 0.8681585  0.54201627\n",
            " 0.6558783  0.09691072 0.76481223 0.3718272  0.9044367  0.83146614\n",
            " 0.1087697  0.6086011  0.35797006 0.33213955 0.06767696 0.94853216\n",
            " 0.761054   0.08256806 0.06407094 0.89930046 0.07962934 0.0951335\n",
            " 0.8973806  0.32659674 0.9486227  0.53821754 0.12622012 0.19823633\n",
            " 0.21687149 0.43630248 0.32886732 0.94109136 0.766179   0.29653293\n",
            " 0.03004327 0.24922645 0.67488766 0.8134277  0.37307847 0.4992645\n",
            " 0.71635014 0.38395283 0.35325637 0.23371065 0.91114104 0.54300916\n",
            " 0.34226415 0.22625208 0.63617545 0.60147774 0.32310426 0.5479045\n",
            " 0.4133969  0.62466365 0.12402098 0.08053767 0.14123823 0.5176\n",
            " 0.1094835  0.45763475 0.01115127 0.89943355 0.34872484 0.23627897\n",
            " 0.23416358 0.58260745 0.83305264 0.13094357 0.57357275 0.11472304\n",
            " 0.49360725 0.48498842 0.7339977  0.7266305  0.1979052  0.48353732\n",
            " 0.8310555  0.3364373  0.1156085  0.4557139  0.5480211  0.24628158\n",
            " 0.30140072 0.44277105]\n",
            "[[0.7762593  0.5915225  0.6787232  ... 0.71807975 0.25051716 0.9451375 ]\n",
            " [0.5163671  0.5127516  0.41725352 ... 0.877963   0.10215659 0.7995192 ]\n",
            " [0.74764407 0.9494957  0.00908721 ... 0.74831325 0.35668886 0.71099555]\n",
            " ...\n",
            " [0.05914263 0.73706365 0.5908491  ... 0.2953423  0.15670323 0.03695525]\n",
            " [0.72304857 0.06217116 0.5254354  ... 0.73376447 0.95421195 0.5273644 ]\n",
            " [0.8265474  0.89947176 0.51937646 ... 0.5979058  0.10064397 0.38042083]]\n",
            "[0.17066276 0.26592684 0.00695652 0.7746227  0.82410634 0.03106201\n",
            " 0.26816234 0.60313183 0.64910084 0.7880659 ]\n"
          ]
        }
      ]
    },
    {
      "cell_type": "code",
      "metadata": {
        "id": "di5W37p6c-Pl"
      },
      "source": [
        "#@title Setting up the Creator\n",
        "creator.create(\"FitnessMax\", base.Fitness, weights=(-1.0,))\n",
        "creator.create(\"Individual\", list, fitness=creator.FitnessMax)"
      ],
      "execution_count": null,
      "outputs": []
    },
    {
      "cell_type": "code",
      "metadata": {
        "id": "qpoZXhoLdJun"
      },
      "source": [
        "#@title Create Individual and Population\n",
        "def uniform(low, up, size=None):\n",
        "  try:\n",
        "    return [random.uniform(a, b) for a, b in zip(low, up)]\n",
        "  except TypeError:\n",
        "    return [random.uniform(a, b) for a, b in zip([low] * size, [up] * size)]\n",
        "\n",
        "toolbox = base.Toolbox()\n",
        "toolbox.register(\"attr_float\", uniform, -1, 1, trainableParams)\n",
        "toolbox.register(\"individual\", tools.initIterate, creator.Individual, toolbox.attr_float)\n",
        "toolbox.register(\"population\", tools.initRepeat, list, toolbox.individual)\n",
        "\n",
        "toolbox.register(\"select\", tools.selTournament, tournsize=5)"
      ],
      "execution_count": null,
      "outputs": []
    },
    {
      "cell_type": "code",
      "metadata": {
        "id": "ncwEt_TPvFvH"
      },
      "source": [
        "def customBlend(ind1, ind2):\n",
        "  for i, (x1, x2) in enumerate(zip(ind1, ind2)):\n",
        "        ind1[i] = (x1 + x2) / 2\n",
        "        ind2[i] = (x1 + x2) / 2\n",
        "  return ind1, ind2\n",
        "\n",
        "#toolbox.register(\"mate\", tools.cxBlend, alpha=.5)\n",
        "toolbox.register(\"mate\", customBlend)\n",
        "toolbox.register(\"mutate\", tools.mutGaussian, mu=0.0, sigma=.1, indpb=.25)"
      ],
      "execution_count": null,
      "outputs": []
    },
    {
      "cell_type": "code",
      "metadata": {
        "id": "I6eGOtxCjjey"
      },
      "source": [
        "def evaluate(individual):\n",
        "  set_parameters(individual)\n",
        "  print('.', end='')\n",
        "  return 1./score_model(),\n",
        "\n",
        "toolbox.register(\"evaluate\", evaluate)"
      ],
      "execution_count": null,
      "outputs": []
    },
    {
      "cell_type": "code",
      "metadata": {
        "id": "TIMumyi2kNqr"
      },
      "source": [
        "#@title Optimize the Weights { run: \"auto\" }\n",
        "MU = 25 #@param {type:\"slider\", min:5, max:1000, step:5}\n",
        "NGEN = 1000 #@param {type:\"slider\", min:100, max:1000, step:10}\n",
        "RGEN = 10 #@param {type:\"slider\", min:1, max:100, step:1}\n",
        "CXPB = .6\n",
        "MUTPB = .3\n",
        "\n",
        "random.seed(64)\n",
        "\n",
        "pop = toolbox.population(n=MU)\n",
        "hof = tools.HallOfFame(1)\n",
        "stats = tools.Statistics(lambda ind: ind.fitness.values)\n",
        "stats.register(\"avg\", np.mean)\n",
        "stats.register(\"std\", np.std)\n",
        "stats.register(\"min\", np.min)\n",
        "stats.register(\"max\", np.max)"
      ],
      "execution_count": null,
      "outputs": []
    },
    {
      "cell_type": "code",
      "metadata": {
        "id": "bnRPvBj8k6AB",
        "colab": {
          "base_uri": "https://localhost:8080/",
          "height": 612
        },
        "outputId": "7964a1b8-3861-4904-9c95-ff20cc75deef"
      },
      "source": [
        "from sklearn.metrics import classification_report\n",
        "best = None\n",
        "history = []\n",
        "\n",
        "for g in range(NGEN):\n",
        "  pop, logbook = algorithms.eaSimple(pop, toolbox,\n",
        "            cxpb=CXPB, mutpb=MUTPB, ngen=RGEN, stats=stats, halloffame=hof, verbose=False)\n",
        "  best = hof[0]\n",
        "\n",
        "  clear_output()\n",
        "  print(f\"Gen ({(g+1)*RGEN})\")\n",
        "  history.extend([1/l[\"min\"] for l in logbook])\n",
        "  plt.plot(history)\n",
        "  plt.show()\n",
        "  set_parameters(best)\n",
        "  accuracy = score_model()\n",
        "  print(\"Best Neural Network accuracy : \", accuracy)\n",
        "  if accuracy > .99999: #stop condition\n",
        "    break\n",
        "  y_pred = model.predict(x_test)\n",
        "  y_pred = np.argmax(y_pred, axis=1)\n",
        "  print(classification_report(y_test, y_pred))"
      ],
      "execution_count": null,
      "outputs": [
        {
          "output_type": "stream",
          "name": "stdout",
          "text": [
            "Gen (7520)\n"
          ]
        },
        {
          "output_type": "display_data",
          "data": {
            "image/png": "[encoded data removed]",
            "text/plain": [
              "<Figure size 432x288 with 1 Axes>"
            ]
          },
          "metadata": {
            "needs_background": "light"
          }
        },
        {
          "output_type": "stream",
          "name": "stdout",
          "text": [
            "Best Neural Network accuracy :  0.6106\n",
            "              precision    recall  f1-score   support\n",
            "\n",
            "           0       0.18      0.00      0.00       980\n",
            "           1       0.88      0.96      0.92      1135\n",
            "           2       0.65      0.80      0.72      1032\n",
            "           3       0.47      0.85      0.61      1010\n",
            "           4       0.55      0.81      0.65       982\n",
            "           5       0.35      0.05      0.08       892\n",
            "           6       0.71      0.91      0.79       958\n",
            "           7       0.50      0.00      0.01      1028\n",
            "           8       0.58      0.81      0.68       974\n",
            "           9       0.55      0.81      0.66      1009\n",
            "\n",
            "    accuracy                           0.61     10000\n",
            "   macro avg       0.54      0.60      0.51     10000\n",
            "weighted avg       0.55      0.61      0.52     10000\n",
            "\n",
            "..............................................................................................................................."
          ]
        }
      ]
    }
  ]
}